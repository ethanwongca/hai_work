{
  "nbformat": 4,
  "nbformat_minor": 0,
  "metadata": {
    "colab": {
      "provenance": [],
      "authorship_tag": "ABX9TyMo4xG9gC4WTHBnIG7p9Pas",
      "include_colab_link": true
    },
    "kernelspec": {
      "name": "python3",
      "display_name": "Python 3"
    },
    "language_info": {
      "name": "python"
    }
  },
  "cells": [
    {
      "cell_type": "markdown",
      "metadata": {
        "id": "view-in-github",
        "colab_type": "text"
      },
      "source": [
        "<a href=\"https://colab.research.google.com/github/ethanwongca/hai_work/blob/main/cv_split.ipynb\" target=\"_parent\"><img src=\"https://colab.research.google.com/assets/colab-badge.svg\" alt=\"Open In Colab\"/></a>"
      ]
    },
    {
      "cell_type": "code",
      "execution_count": null,
      "metadata": {
        "colab": {
          "base_uri": "https://localhost:8080/"
        },
        "id": "zeUuFk0fbmDe",
        "outputId": "cf343e4a-002f-41e0-a61b-4f54d9e1b3e1"
      },
      "outputs": [
        {
          "output_type": "stream",
          "name": "stdout",
          "text": [
            "Drive already mounted at /content/drive; to attempt to forcibly remount, call drive.mount(\"/content/drive\", force_remount=True).\n"
          ]
        }
      ],
      "source": [
        "#@title Step 1: Mount Google Drive\n",
        "from google.colab import drive\n",
        "drive.mount('/content/drive')\n"
      ]
    },
    {
      "cell_type": "code",
      "source": [
        " #@title Step 2: Import Libraries and Define the Grouped Split Function\n",
        "\n",
        "import os\n",
        "import pickle\n",
        "import random\n",
        "import numpy as np\n",
        "from sklearn.model_selection import GroupKFold\n",
        "\n",
        "# Set manual seed for reproducibility\n",
        "MANUAL_SEED = 1\n",
        "random.seed(MANUAL_SEED)\n",
        "np.random.seed(MANUAL_SEED)\n",
        "\n",
        "def get_grouped_splits(confused_items, not_confused_items, k):\n",
        "    \"\"\"\n",
        "    Splits data ensuring that no single user’s data appears in both training\n",
        "    and testing sets using GroupKFold.\n",
        "\n",
        "    Args:\n",
        "        confused_items (list): list of file names for the confused class.\n",
        "        not_confused_items (list): list of file names for the not_confused class.\n",
        "        k (int): number of folds for cross-validation.\n",
        "\n",
        "    Returns:\n",
        "        tuple: (train_confused_splits, test_confused_splits,\n",
        "                train_not_confused_splits, test_not_confused_splits)\n",
        "    \"\"\"\n",
        "    train_confused_splits = []\n",
        "    test_confused_splits = []\n",
        "    train_not_confused_splits = []\n",
        "    test_not_confused_splits = []\n",
        "\n",
        "    # Build a groups list based on a user identifier extracted from the filename.\n",
        "    # This example assumes that the filename contains the user ID at the beginning,\n",
        "    # e.g. \"U123_itemname.pkl\". Adjust the splitting logic if your filenames differ.\n",
        "    groups_confused = [fname.split('_')[0] + \"_\" + fname.split('_')[1] for fname in confused_items]\n",
        "    groups_not_confused = [fname.split('_')[0] + \"_\" + fname.split('_')[1] for fname in not_confused_items]\n",
        "\n",
        "    # Combine items and groups for both classes.\n",
        "    items = confused_items + not_confused_items\n",
        "    groups = groups_confused + groups_not_confused\n",
        "    # Dummy labels: 0 for confused, 1 for not_confused.\n",
        "    dummy_y = [0] * len(confused_items) + [1] * len(not_confused_items)\n",
        "\n",
        "    gkf = GroupKFold(n_splits=k)\n",
        "    for train_idx, test_idx in gkf.split(X=items, y=dummy_y, groups=groups):\n",
        "        # Split items based on the dummy labels.\n",
        "        train_confused = [items[i] for i in train_idx if dummy_y[i] == 0]\n",
        "        test_confused = [items[i] for i in test_idx if dummy_y[i] == 0]\n",
        "        train_not_confused = [items[i] for i in train_idx if dummy_y[i] == 1]\n",
        "        test_not_confused = [items[i] for i in test_idx if dummy_y[i] == 1]\n",
        "\n",
        "        train_confused_splits.append(train_confused)\n",
        "        test_confused_splits.append(test_confused)\n",
        "        train_not_confused_splits.append(train_not_confused)\n",
        "        test_not_confused_splits.append(test_not_confused)\n",
        "\n",
        "    return (train_confused_splits, test_confused_splits,\n",
        "            train_not_confused_splits, test_not_confused_splits)\n"
      ],
      "metadata": {
        "id": "bboW0qEacGXh"
      },
      "execution_count": null,
      "outputs": []
    },
    {
      "cell_type": "code",
      "source": [
        "#@title Step 3: Define Data Directories and Collect File Names\n",
        "\n",
        "# Adjust these paths to point to your data directories in Google Drive.\n",
        "# For example, suppose your Drive contains a folder \"dataset\" with two subfolders:\n",
        "#   - confused: containing files for the confused class\n",
        "#   - not_confused: containing files for the not_confused class\n",
        "\n",
        "confused_dir = '/content/drive/My Drive/msnv_data/VTNet_att/msnv_final_data/Meara_label/high/pickle_files'\n",
        "not_confused_dir = '/content/drive/My Drive/msnv_data/VTNet_att/msnv_final_data/Meara_label/low/pickle_files'\n",
        "\n",
        "# Get list of .pkl files from each directory.\n",
        "confused_items = sorted([f for f in os.listdir(confused_dir) if f.endswith('.pkl')])\n",
        "not_confused_items = sorted([f for f in os.listdir(not_confused_dir) if f.endswith('.pkl')])\n",
        "\n",
        "print(\"Number of confused items:\", len(confused_items))\n",
        "print(\"Number of not_confused items:\", len(not_confused_items))\n"
      ],
      "metadata": {
        "colab": {
          "base_uri": "https://localhost:8080/"
        },
        "id": "tU189x1DbqBe",
        "outputId": "e1125e6a-e92d-4a2e-8c25-da002c74fc58"
      },
      "execution_count": null,
      "outputs": [
        {
          "output_type": "stream",
          "name": "stdout",
          "text": [
            "Number of confused items: 260\n",
            "Number of not_confused items: 252\n"
          ]
        }
      ]
    },
    {
      "cell_type": "code",
      "source": [
        "#@title Step 4: Create 10-Fold Cross-Validation Splits\n",
        "\n",
        "# Number of folds for cross-validation\n",
        "k = 10\n",
        "\n",
        "# Generate the splits\n",
        "splits = get_grouped_splits(confused_items, not_confused_items, k)\n",
        "\n",
        "(train_confused_splits, test_confused_splits,\n",
        " train_not_confused_splits, test_not_confused_splits) = splits\n",
        "\n",
        "# For example, print the splits for the first fold:\n",
        "print(\"Fold 1 - Confused Training Files:\", train_confused_splits[0])\n",
        "print(\"Fold 1 - Confused Testing Files:\", test_confused_splits[0])\n",
        "print(\"Fold 1 - Not Confused Training Files:\", train_not_confused_splits[0])\n",
        "print(\"Fold 1 - Not Confused Testing Files:\", test_not_confused_splits[0])\n"
      ],
      "metadata": {
        "colab": {
          "base_uri": "https://localhost:8080/"
        },
        "id": "OmSAMg6-dFoT",
        "outputId": "201ecd6b-a31f-42e9-9ad9-5e8e15096f34"
      },
      "execution_count": null,
      "outputs": [
        {
          "output_type": "stream",
          "name": "stdout",
          "text": [
            "Fold 1 - Confused Training Files: ['bar_10_1.pkl', 'bar_10_2.pkl', 'bar_10_3.pkl', 'bar_10_4.pkl', 'bar_13_1.pkl', 'bar_13_2.pkl', 'bar_13_3.pkl', 'bar_13_4.pkl', 'bar_14_1.pkl', 'bar_14_2.pkl', 'bar_14_3.pkl', 'bar_14_4.pkl', 'bar_15_1.pkl', 'bar_15_2.pkl', 'bar_15_3.pkl', 'bar_15_4.pkl', 'bar_18_1.pkl', 'bar_18_2.pkl', 'bar_18_3.pkl', 'bar_18_4.pkl', 'bar_1_1.pkl', 'bar_1_2.pkl', 'bar_1_3.pkl', 'bar_1_4.pkl', 'bar_20_1.pkl', 'bar_20_2.pkl', 'bar_20_3.pkl', 'bar_20_4.pkl', 'bar_21_1.pkl', 'bar_21_2.pkl', 'bar_21_3.pkl', 'bar_21_4.pkl', 'bar_22_1.pkl', 'bar_22_2.pkl', 'bar_22_3.pkl', 'bar_22_4.pkl', 'bar_24_1.pkl', 'bar_24_2.pkl', 'bar_24_3.pkl', 'bar_24_4.pkl', 'bar_25_1.pkl', 'bar_25_2.pkl', 'bar_25_3.pkl', 'bar_25_4.pkl', 'bar_29_1.pkl', 'bar_29_2.pkl', 'bar_29_3.pkl', 'bar_29_4.pkl', 'bar_2_1.pkl', 'bar_2_2.pkl', 'bar_2_3.pkl', 'bar_2_4.pkl', 'bar_30_1.pkl', 'bar_30_2.pkl', 'bar_30_3.pkl', 'bar_30_4.pkl', 'bar_35_1.pkl', 'bar_35_2.pkl', 'bar_35_3.pkl', 'bar_35_4.pkl', 'bar_37_1.pkl', 'bar_37_2.pkl', 'bar_37_3.pkl', 'bar_37_4.pkl', 'bar_39_1.pkl', 'bar_39_2.pkl', 'bar_39_3.pkl', 'bar_39_4.pkl', 'bar_41_1.pkl', 'bar_41_2.pkl', 'bar_41_3.pkl', 'bar_41_4.pkl', 'bar_43_1.pkl', 'bar_43_2.pkl', 'bar_43_3.pkl', 'bar_43_4.pkl', 'bar_51_1.pkl', 'bar_51_2.pkl', 'bar_51_3.pkl', 'bar_51_4.pkl', 'bar_54_1.pkl', 'bar_54_2.pkl', 'bar_54_3.pkl', 'bar_54_4.pkl', 'bar_56_1.pkl', 'bar_56_2.pkl', 'bar_56_3.pkl', 'bar_56_4.pkl', 'bar_5_1.pkl', 'bar_5_2.pkl', 'bar_5_3.pkl', 'bar_5_4.pkl', 'bar_60_1.pkl', 'bar_60_2.pkl', 'bar_60_3.pkl', 'bar_60_4.pkl', 'bar_63_1.pkl', 'bar_63_2.pkl', 'bar_63_3.pkl', 'bar_63_4.pkl', 'bar_68_1.pkl', 'bar_68_2.pkl', 'bar_68_3.pkl', 'bar_68_4.pkl', 'bar_69_1.pkl', 'bar_69_2.pkl', 'bar_69_3.pkl', 'bar_69_4.pkl', 'bar_77_1.pkl', 'bar_77_2.pkl', 'bar_77_3.pkl', 'bar_77_4.pkl', 'bar_78_1.pkl', 'bar_78_2.pkl', 'bar_78_3.pkl', 'bar_78_4.pkl', 'bar_81_1.pkl', 'bar_81_2.pkl', 'bar_81_3.pkl', 'bar_81_4.pkl', 'bar_9_1.pkl', 'bar_9_2.pkl', 'bar_9_3.pkl', 'bar_9_4.pkl', 'ctrl_12_1.pkl', 'ctrl_12_2.pkl', 'ctrl_12_3.pkl', 'ctrl_12_4.pkl', 'ctrl_16_1.pkl', 'ctrl_16_2.pkl', 'ctrl_16_3.pkl', 'ctrl_16_4.pkl', 'ctrl_1_1.pkl', 'ctrl_1_2.pkl', 'ctrl_1_3.pkl', 'ctrl_1_4.pkl', 'ctrl_31_1.pkl', 'ctrl_31_2.pkl', 'ctrl_31_3.pkl', 'ctrl_31_4.pkl', 'ctrl_36_1.pkl', 'ctrl_36_2.pkl', 'ctrl_36_3.pkl', 'ctrl_36_4.pkl', 'ctrl_38_1.pkl', 'ctrl_38_2.pkl', 'ctrl_38_3.pkl', 'ctrl_38_4.pkl', 'ctrl_40_1.pkl', 'ctrl_40_2.pkl', 'ctrl_40_3.pkl', 'ctrl_40_4.pkl', 'ctrl_46_1.pkl', 'ctrl_46_2.pkl', 'ctrl_46_3.pkl', 'ctrl_46_4.pkl', 'ctrl_50_1.pkl', 'ctrl_50_2.pkl', 'ctrl_50_3.pkl', 'ctrl_50_4.pkl', 'ctrl_52_1.pkl', 'ctrl_52_2.pkl', 'ctrl_52_3.pkl', 'ctrl_52_4.pkl', 'ctrl_55_1.pkl', 'ctrl_55_2.pkl', 'ctrl_55_3.pkl', 'ctrl_55_4.pkl', 'ctrl_59_1.pkl', 'ctrl_59_2.pkl', 'ctrl_59_3.pkl', 'ctrl_59_4.pkl', 'ctrl_61_1.pkl', 'ctrl_61_2.pkl', 'ctrl_61_3.pkl', 'ctrl_61_4.pkl', 'ctrl_62_1.pkl', 'ctrl_62_2.pkl', 'ctrl_62_3.pkl', 'ctrl_62_4.pkl', 'ctrl_76_1.pkl', 'ctrl_76_2.pkl', 'ctrl_76_3.pkl', 'ctrl_76_4.pkl', 'ctrl_79_1.pkl', 'ctrl_79_2.pkl', 'ctrl_79_3.pkl', 'ctrl_79_4.pkl', 'ctrl_85_1.pkl', 'ctrl_85_2.pkl', 'ctrl_85_3.pkl', 'ctrl_85_4.pkl', 'ctrl_89_1.pkl', 'ctrl_89_2.pkl', 'ctrl_89_3.pkl', 'ctrl_89_4.pkl', 'ctrl_90_1.pkl', 'ctrl_90_2.pkl', 'ctrl_90_3.pkl', 'ctrl_90_4.pkl', 'ctrl_91_1.pkl', 'ctrl_91_2.pkl', 'ctrl_91_3.pkl', 'ctrl_91_4.pkl', 'ctrl_9_1.pkl', 'ctrl_9_2.pkl', 'ctrl_9_3.pkl', 'ctrl_9_4.pkl', 'link_10_1.pkl', 'link_10_2.pkl', 'link_10_3.pkl', 'link_10_4.pkl', 'link_11_1.pkl', 'link_11_2.pkl', 'link_11_3.pkl', 'link_11_4.pkl', 'link_12_1.pkl', 'link_12_2.pkl', 'link_12_3.pkl', 'link_12_4.pkl', 'link_13_1.pkl', 'link_13_2.pkl', 'link_13_3.pkl', 'link_13_4.pkl', 'link_18_1.pkl', 'link_18_2.pkl', 'link_18_3.pkl', 'link_18_4.pkl', 'link_26_1.pkl', 'link_26_2.pkl', 'link_26_3.pkl', 'link_26_4.pkl', 'link_32_1.pkl', 'link_32_2.pkl', 'link_32_3.pkl', 'link_32_4.pkl', 'link_33_1.pkl', 'link_33_2.pkl', 'link_33_3.pkl', 'link_33_4.pkl', 'link_6_1.pkl', 'link_6_2.pkl', 'link_6_3.pkl', 'link_6_4.pkl']\n",
            "Fold 1 - Confused Testing Files: ['bar_17_1.pkl', 'bar_17_2.pkl', 'bar_17_3.pkl', 'bar_17_4.pkl', 'bar_34_1.pkl', 'bar_34_2.pkl', 'bar_34_3.pkl', 'bar_34_4.pkl', 'bar_46_1.pkl', 'bar_46_2.pkl', 'bar_46_3.pkl', 'bar_46_4.pkl', 'link_34_1.pkl', 'link_34_2.pkl', 'link_34_3.pkl', 'link_34_4.pkl']\n",
            "Fold 1 - Not Confused Training Files: ['bar_12_1.pkl', 'bar_12_2.pkl', 'bar_12_3.pkl', 'bar_12_4.pkl', 'bar_38_1.pkl', 'bar_38_2.pkl', 'bar_38_3.pkl', 'bar_38_4.pkl', 'bar_42_1.pkl', 'bar_42_2.pkl', 'bar_42_3.pkl', 'bar_42_4.pkl', 'bar_44_1.pkl', 'bar_44_2.pkl', 'bar_44_3.pkl', 'bar_44_4.pkl', 'bar_49_1.pkl', 'bar_49_2.pkl', 'bar_49_3.pkl', 'bar_49_4.pkl', 'bar_4_1.pkl', 'bar_4_2.pkl', 'bar_4_3.pkl', 'bar_4_4.pkl', 'bar_50_1.pkl', 'bar_50_2.pkl', 'bar_50_3.pkl', 'bar_50_4.pkl', 'bar_66_1.pkl', 'bar_66_2.pkl', 'bar_66_3.pkl', 'bar_66_4.pkl', 'bar_6_1.pkl', 'bar_6_2.pkl', 'bar_6_3.pkl', 'bar_6_4.pkl', 'bar_71_1.pkl', 'bar_71_2.pkl', 'bar_71_3.pkl', 'bar_71_4.pkl', 'bar_73_1.pkl', 'bar_73_2.pkl', 'bar_73_3.pkl', 'bar_73_4.pkl', 'bar_79_1.pkl', 'bar_79_2.pkl', 'bar_79_3.pkl', 'bar_79_4.pkl', 'bar_85_1.pkl', 'bar_85_2.pkl', 'bar_85_3.pkl', 'bar_85_4.pkl', 'ctrl_19_1.pkl', 'ctrl_19_2.pkl', 'ctrl_19_3.pkl', 'ctrl_19_4.pkl', 'ctrl_21_1.pkl', 'ctrl_21_2.pkl', 'ctrl_21_3.pkl', 'ctrl_21_4.pkl', 'ctrl_25_1.pkl', 'ctrl_25_2.pkl', 'ctrl_25_3.pkl', 'ctrl_25_4.pkl', 'ctrl_26_1.pkl', 'ctrl_26_2.pkl', 'ctrl_26_3.pkl', 'ctrl_26_4.pkl', 'ctrl_30_1.pkl', 'ctrl_30_2.pkl', 'ctrl_30_3.pkl', 'ctrl_30_4.pkl', 'ctrl_45_1.pkl', 'ctrl_45_2.pkl', 'ctrl_45_3.pkl', 'ctrl_45_4.pkl', 'ctrl_60_1.pkl', 'ctrl_60_2.pkl', 'ctrl_60_3.pkl', 'ctrl_60_4.pkl', 'ctrl_63_1.pkl', 'ctrl_63_2.pkl', 'ctrl_63_3.pkl', 'ctrl_63_4.pkl', 'ctrl_64_1.pkl', 'ctrl_64_2.pkl', 'ctrl_64_3.pkl', 'ctrl_64_4.pkl', 'ctrl_65_1.pkl', 'ctrl_65_2.pkl', 'ctrl_65_3.pkl', 'ctrl_65_4.pkl', 'ctrl_66_1.pkl', 'ctrl_66_2.pkl', 'ctrl_66_3.pkl', 'ctrl_66_4.pkl', 'ctrl_67_1.pkl', 'ctrl_67_2.pkl', 'ctrl_67_3.pkl', 'ctrl_67_4.pkl', 'ctrl_69_1.pkl', 'ctrl_69_2.pkl', 'ctrl_69_3.pkl', 'ctrl_69_4.pkl', 'ctrl_70_1.pkl', 'ctrl_70_2.pkl', 'ctrl_70_3.pkl', 'ctrl_70_4.pkl', 'ctrl_71_1.pkl', 'ctrl_71_2.pkl', 'ctrl_71_3.pkl', 'ctrl_71_4.pkl', 'ctrl_72_1.pkl', 'ctrl_72_2.pkl', 'ctrl_72_3.pkl', 'ctrl_72_4.pkl', 'ctrl_73_1.pkl', 'ctrl_73_2.pkl', 'ctrl_73_3.pkl', 'ctrl_73_4.pkl', 'ctrl_74_1.pkl', 'ctrl_74_2.pkl', 'ctrl_74_3.pkl', 'ctrl_74_4.pkl', 'ctrl_75_1.pkl', 'ctrl_75_2.pkl', 'ctrl_75_3.pkl', 'ctrl_75_4.pkl', 'ctrl_77_1.pkl', 'ctrl_77_2.pkl', 'ctrl_77_3.pkl', 'ctrl_77_4.pkl', 'ctrl_80_1.pkl', 'ctrl_80_2.pkl', 'ctrl_80_3.pkl', 'ctrl_80_4.pkl', 'ctrl_81_1.pkl', 'ctrl_81_2.pkl', 'ctrl_81_3.pkl', 'ctrl_81_4.pkl', 'ctrl_84_1.pkl', 'ctrl_84_2.pkl', 'ctrl_84_3.pkl', 'ctrl_84_4.pkl', 'ctrl_88_1.pkl', 'ctrl_88_2.pkl', 'ctrl_88_3.pkl', 'ctrl_88_4.pkl', 'ctrl_92_1.pkl', 'ctrl_92_2.pkl', 'ctrl_92_3.pkl', 'ctrl_92_4.pkl', 'ctrl_93_1.pkl', 'ctrl_93_2.pkl', 'ctrl_93_3.pkl', 'ctrl_93_4.pkl', 'ctrl_95_1.pkl', 'ctrl_95_2.pkl', 'ctrl_95_3.pkl', 'ctrl_95_4.pkl', 'link_15_1.pkl', 'link_15_2.pkl', 'link_15_3.pkl', 'link_15_4.pkl', 'link_16_1.pkl', 'link_16_2.pkl', 'link_16_3.pkl', 'link_16_4.pkl', 'link_17_1.pkl', 'link_17_2.pkl', 'link_17_3.pkl', 'link_17_4.pkl', 'link_19_1.pkl', 'link_19_2.pkl', 'link_19_3.pkl', 'link_19_4.pkl', 'link_1_1.pkl', 'link_1_2.pkl', 'link_1_3.pkl', 'link_1_4.pkl', 'link_21_1.pkl', 'link_21_2.pkl', 'link_21_3.pkl', 'link_21_4.pkl', 'link_23_1.pkl', 'link_23_2.pkl', 'link_23_3.pkl', 'link_23_4.pkl', 'link_29_1.pkl', 'link_29_2.pkl', 'link_29_3.pkl', 'link_29_4.pkl', 'link_30_1.pkl', 'link_30_2.pkl', 'link_30_3.pkl', 'link_30_4.pkl', 'link_35_1.pkl', 'link_35_2.pkl', 'link_35_3.pkl', 'link_35_4.pkl', 'link_3_1.pkl', 'link_3_2.pkl', 'link_3_3.pkl', 'link_3_4.pkl', 'link_4_1.pkl', 'link_4_2.pkl', 'link_4_3.pkl', 'link_4_4.pkl', 'link_5_1.pkl', 'link_5_2.pkl', 'link_5_3.pkl', 'link_5_4.pkl', 'link_8_1.pkl', 'link_8_2.pkl', 'link_8_3.pkl', 'link_8_4.pkl']\n",
            "Fold 1 - Not Confused Testing Files: ['bar_75_1.pkl', 'bar_75_2.pkl', 'bar_75_3.pkl', 'bar_75_4.pkl', 'ctrl_18_1.pkl', 'ctrl_18_2.pkl', 'ctrl_18_3.pkl', 'ctrl_18_4.pkl', 'ctrl_42_1.pkl', 'ctrl_42_2.pkl', 'ctrl_42_3.pkl', 'ctrl_42_4.pkl', 'ctrl_58_1.pkl', 'ctrl_58_2.pkl', 'ctrl_58_3.pkl', 'ctrl_58_4.pkl', 'ctrl_68_1.pkl', 'ctrl_68_2.pkl', 'ctrl_68_3.pkl', 'ctrl_68_4.pkl', 'ctrl_78_1.pkl', 'ctrl_78_2.pkl', 'ctrl_78_3.pkl', 'ctrl_78_4.pkl', 'ctrl_97_1.pkl', 'ctrl_97_2.pkl', 'ctrl_97_3.pkl', 'ctrl_97_4.pkl', 'link_20_1.pkl', 'link_20_2.pkl', 'link_20_3.pkl', 'link_20_4.pkl', 'link_9_1.pkl', 'link_9_2.pkl', 'link_9_3.pkl', 'link_9_4.pkl']\n"
          ]
        }
      ]
    },
    {
      "cell_type": "code",
      "source": [
        "#@title Step 5: Save the Splits to a Pickle File\n",
        "\n",
        "# Combine the splits into a single object. This structure can be loaded later for cross-validation.\n",
        "cv_splits = [train_confused_splits, test_confused_splits, train_not_confused_splits, test_not_confused_splits]\n",
        "\n",
        "# Define an output path for the pickle file.\n",
        "output_pickle_path = '/content/drive/My Drive/msnv_data/VTNet_att/meara.pickle'\n",
        "\n",
        "with open(output_pickle_path, 'wb') as f:\n",
        "    pickle.dump(cv_splits, f)\n",
        "\n",
        "print(f\"Saved 10-fold CV splits to {output_pickle_path}\")\n"
      ],
      "metadata": {
        "colab": {
          "base_uri": "https://localhost:8080/"
        },
        "id": "bwsKO5Xce810",
        "outputId": "22b5540b-016c-4aeb-c982-929f898a2491"
      },
      "execution_count": null,
      "outputs": [
        {
          "output_type": "stream",
          "name": "stdout",
          "text": [
            "Saved 10-fold CV splits to /content/drive/My Drive/msnv_data/VTNet_att/meara.pickle\n"
          ]
        }
      ]
    }
  ]
}